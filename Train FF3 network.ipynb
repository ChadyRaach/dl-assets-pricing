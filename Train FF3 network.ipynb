{
 "cells": [
  {
   "cell_type": "code",
   "execution_count": 1,
   "metadata": {},
   "outputs": [],
   "source": [
    "%load_ext autoreload\n",
    "%autoreload 2\n",
    "import sys\n",
    "sys.path.append(\"./dl-assets-pricing\")\n",
    "import os\n",
    "import torch\n",
    "import torch.nn as nn\n",
    "import torch.nn.functional as F\n",
    "import matplotlib.pyplot as plt\n",
    "import pandas as pd\n",
    "import datetime as dt\n",
    "import numpy as np\n",
    "\n",
    "from preprocess_data import next_month, Dataset, train_val_split, batchify\n",
    "from train import trainmodel, check_accuracy\n",
    "from losses import pricing_error, time_series_variation\n",
    "from torch.utils.data.dataloader import DataLoader\n",
    "from fama_french_helper import ff_returns\n",
    "from metrics import compute_Rts, compute_PE, compute_CS \n",
    "import os\n",
    "os.environ[\"KMP_DUPLICATE_LIB_OK\"]=\"TRUE\""
   ]
  },
  {
   "cell_type": "code",
   "execution_count": 2,
   "metadata": {},
   "outputs": [],
   "source": [
    "from model import DeepCharacteristics, SortedFactorModel"
   ]
  },
  {
   "cell_type": "code",
   "execution_count": 3,
   "metadata": {},
   "outputs": [],
   "source": [
    "ff_factors_file = 'C:/Users/Raach/Desktop/3A/Projet MDS/fama_french_factors.csv'\n",
    "ff_ptf_file = 'C:/Users/Raach/Desktop/3A/Projet MDS/ff_portfolios.csv'\n",
    "firm_carac = pd.read_csv(\"C:/Users/Raach/Desktop/3A/Projet MDS/S2000_3300HighestCap.csv\")\n",
    "firm_carac[\"be\"] = firm_carac[\"be\"]*1e6\n",
    "ff_portfolio = pd.read_csv(ff_ptf_file)\n",
    "ff_portfolio = ff_portfolio[ff_portfolio[\"date\"].notnull()]\n",
    "fff = pd.read_csv(ff_factors_file)\n",
    "for df in [firm_carac,\n",
    "           ff_portfolio,\n",
    "           fff]:\n",
    "        if type(df[\"date\"].iloc[0]) == str:\n",
    "            df[\"date\"] = df[\"date\"].apply(lambda x: dt.datetime.strptime(x, \"%Y-%m-%d\"))\n",
    "            df[\"date\"] = df[\"date\"].apply(lambda x: x.replace(day=1))"
   ]
  },
  {
   "cell_type": "code",
   "execution_count": 4,
   "metadata": {},
   "outputs": [],
   "source": [
    "firm_carac[\"be\"] = firm_carac[\"be\"] / 1e9\n",
    "firm_carac[\"me\"] = firm_carac[\"me\"] / 1e9\n",
    "firm_carac[\"BtM\"] = firm_carac[\"be\"]/firm_carac[\"me\"]"
   ]
  },
  {
   "cell_type": "code",
   "execution_count": 5,
   "metadata": {},
   "outputs": [],
   "source": [
    "current_month = dt.datetime(2000, 1, 1)\n",
    "start_date = current_month\n",
    "firm_characteristics = []\n",
    "firm_returns = []\n",
    "benchmark_factors = []\n",
    "portfolios_returns = []\n",
    "while current_month <= dt.datetime(2021, 12, 31):\n",
    "    m_fc = firm_carac[(firm_carac[\"date\"] == current_month) & (firm_carac[\"is_valid\"])\n",
    "                      ].sort_values(\"me\", ascending=False).iloc[:2300]\n",
    "    assert len(m_fc) == 2300\n",
    "    firm_characteristics.append(m_fc[[\"retx\", \"me\", \"be\"]].to_numpy())\n",
    "    firm_returns.append(m_fc[\"retx\"].to_numpy())\n",
    "    benchmark_factors.append(fff[fff[\"date\"] == current_month][[\"mktrf\", \"smb\", \"hml\", \"rf\"]].to_numpy())\n",
    "    portfolios_returns.append((ff_portfolio[ff_portfolio[\"date\"] == current_month][[\n",
    "                              k for k in ff_portfolio.keys() if \"vwret\" in k]]).to_numpy())\n",
    "    current_month = next_month(current_month)\n",
    "current_month = current_month-dt.timedelta(1)\n",
    "firm_characteristics = np.stack(firm_characteristics)\n",
    "firm_returns = np.stack(firm_returns)\n",
    "benchmark_factors = np.stack(benchmark_factors).squeeze(axis=1)\n",
    "portfolios_returns = np.stack(portfolios_returns).squeeze(axis=1)\n",
    "portfolios_excess_returns = portfolios_returns - benchmark_factors[:,-1][:, None]\n",
    "ds = Dataset(firm_characteristics[:, :, [1, 2]], firm_returns, benchmark_factors[:, [0, 2]], portfolios_excess_returns, start_date=start_date, end_date=current_month)"
   ]
  },
  {
   "cell_type": "code",
   "execution_count": 6,
   "metadata": {},
   "outputs": [],
   "source": [
    "ptf_dict = ff_returns(ff_ptf_file, ff_factors_file, start_date, current_month, factors=[\"mktrf\", \"hml\"])\n",
    "ff3_coefs = pd.DataFrame.from_dict(ptf_dict)"
   ]
  },
  {
   "cell_type": "code",
   "execution_count": 10,
   "metadata": {},
   "outputs": [
    {
     "name": "stdout",
     "output_type": "stream",
     "text": [
      "Validation data on time range: 2017-09-01 to 2021-12-31\n"
     ]
    }
   ],
   "source": [
    "train_set, val_set = train_val_split(ds)\n",
    "batch_size = 5\n",
    "trainloader = batchify(train_set, batch_size)\n",
    "valloader = batchify(val_set, batch_size)"
   ]
  },
  {
   "cell_type": "code",
   "execution_count": 11,
   "metadata": {},
   "outputs": [],
   "source": [
    "lambda_ = 10\n",
    "def loss(gt_returns, pred_returns):\n",
    "        return pricing_error(gt_returns, pred_returns) + lambda_ * time_series_variation(gt_returns, pred_returns)"
   ]
  },
  {
   "cell_type": "code",
   "execution_count": 21,
   "metadata": {},
   "outputs": [],
   "source": [
    "network = SortedFactorModel(2, 2, 4, n_deep_factors=1, n_BM_factors=2, n_portfolio=6, ranking_method=\"softmax\")"
   ]
  },
  {
   "cell_type": "code",
   "execution_count": 24,
   "metadata": {},
   "outputs": [
    {
     "name": "stdout",
     "output_type": "stream",
     "text": [
      "Epoch     0/   20, loss = -1.0000, val_loss = 0.005612\n"
     ]
    },
    {
     "name": "stderr",
     "output_type": "stream",
     "text": [
      " 25%|██████████████████████████████████                                                                                                      | 5/20 [00:12<00:39,  2.62s/it]"
     ]
    },
    {
     "name": "stdout",
     "output_type": "stream",
     "text": [
      "Epoch     5/   20, loss = 0.002539, val_loss = 0.002481\n"
     ]
    },
    {
     "name": "stderr",
     "output_type": "stream",
     "text": [
      " 50%|███████████████████████████████████████████████████████████████████▌                                                                   | 10/20 [00:24<00:22,  2.30s/it]"
     ]
    },
    {
     "name": "stdout",
     "output_type": "stream",
     "text": [
      "Epoch    10/   20, loss = 0.001573, val_loss = 0.001559\n"
     ]
    },
    {
     "name": "stderr",
     "output_type": "stream",
     "text": [
      " 75%|█████████████████████████████████████████████████████████████████████████████████████████████████████▎                                 | 15/20 [00:35<00:11,  2.33s/it]"
     ]
    },
    {
     "name": "stdout",
     "output_type": "stream",
     "text": [
      "Epoch    15/   20, loss = 0.001350, val_loss = 0.001412\n"
     ]
    },
    {
     "name": "stderr",
     "output_type": "stream",
     "text": [
      "100%|███████████████████████████████████████████████████████████████████████████████████████████████████████████████████████████████████████| 20/20 [00:47<00:00,  2.39s/it]"
     ]
    },
    {
     "name": "stdout",
     "output_type": "stream",
     "text": [
      "Epoch    20/   20, loss = 0.001303, val_loss = 0.001545\n"
     ]
    },
    {
     "name": "stderr",
     "output_type": "stream",
     "text": [
      "\n"
     ]
    }
   ],
   "source": [
    "network, train_loss, val_loss = trainmodel(network, loss, trainloader, valloader, None, None, 20, weight_decay=0.1,\n",
    "               loss_every=5, learning_rate=0.001)"
   ]
  },
  {
   "cell_type": "code",
   "execution_count": 25,
   "metadata": {},
   "outputs": [],
   "source": [
    "data = batchify(val_set, len(val_set))[0]\n",
    "Z, r, g, R = data\n",
    "R_p, f = network.forward(Z, r, g)\n",
    "g = g.detach().numpy()\n",
    "betas = torch.concat([network.gamma, network.beta], axis=1)"
   ]
  },
  {
   "cell_type": "code",
   "execution_count": 26,
   "metadata": {},
   "outputs": [
    {
     "name": "stdout",
     "output_type": "stream",
     "text": [
      "Time series R: 0.96258\n",
      "Pricing error PE (1e-5): 1.00328\n",
      "Cross sectional R: 0.945269521693592\n"
     ]
    }
   ],
   "source": [
    "print(f\"Time series R: {compute_Rts(R, R_p):.5f}\")\n",
    "print(f\"Pricing error PE (1e-5): {compute_PE(R, R_p)*1e5:.5f}\")\n",
    "print(f\"Cross sectional R: {compute_CS(R, betas)}\")"
   ]
  },
  {
   "cell_type": "code",
   "execution_count": 27,
   "metadata": {},
   "outputs": [],
   "source": [
    "g_aug = np.concatenate([np.ones([g.shape[0], 1]), g], axis=1)\n",
    "R_2f = g_aug @ ff3_coefs.to_numpy()\n",
    "    "
   ]
  },
  {
   "cell_type": "code",
   "execution_count": 28,
   "metadata": {
    "scrolled": true
   },
   "outputs": [
    {
     "name": "stdout",
     "output_type": "stream",
     "text": [
      "Time series R: 0.86222\n",
      "Pricing error PE (1e-5): 3.28411\n",
      "Cross sectional R: 0.9328430757685438\n"
     ]
    }
   ],
   "source": [
    "print(f\"Time series R: {compute_Rts(R, R_2f):.5f}\")\n",
    "print(f\"Pricing error PE (1e-5): {compute_PE(R, R_2f)*1e5:.5f}\")\n",
    "print(f\"Cross sectional R: {compute_CS(R, ff3_coefs.to_numpy().T)}\")"
   ]
  },
  {
   "cell_type": "code",
   "execution_count": 29,
   "metadata": {},
   "outputs": [],
   "source": [
    "from scipy.stats import pearsonr"
   ]
  },
  {
   "cell_type": "code",
   "execution_count": 30,
   "metadata": {
    "scrolled": true
   },
   "outputs": [
    {
     "data": {
      "text/plain": [
       "(0.8610619454722592, 5.307979716251387e-16)"
      ]
     },
     "execution_count": 30,
     "metadata": {},
     "output_type": "execute_result"
    }
   ],
   "source": [
    "f_pred = f.detach().numpy().reshape(-1)\n",
    "f_gt = benchmark_factors[-len(val_set):, 1]\n",
    "pearsonr(f_gt, f_pred)"
   ]
  },
  {
   "cell_type": "code",
   "execution_count": 32,
   "metadata": {},
   "outputs": [
    {
     "data": {
      "text/plain": [
       "Parameter containing:\n",
       "tensor([[ 0.8972],\n",
       "        [ 0.7405],\n",
       "        [ 0.7711],\n",
       "        [-0.1372],\n",
       "        [-0.0021],\n",
       "        [ 0.0493]], requires_grad=True)"
      ]
     },
     "execution_count": 32,
     "metadata": {},
     "output_type": "execute_result"
    }
   ],
   "source": [
    "network.beta"
   ]
  },
  {
   "cell_type": "code",
   "execution_count": 31,
   "metadata": {},
   "outputs": [
    {
     "data": {
      "text/plain": [
       "Text(0, 0.5, 'Predicted SMB')"
      ]
     },
     "execution_count": 31,
     "metadata": {},
     "output_type": "execute_result"
    },
    {
     "data": {
      "image/png": "[encoded data removed]",
      "text/plain": [
       "<Figure size 432x288 with 1 Axes>"
      ]
     },
     "metadata": {
      "needs_background": "light"
     },
     "output_type": "display_data"
    }
   ],
   "source": [
    "plt.scatter(f_gt, f_pred)\n",
    "plt.plot([-0.15,0.15], [0.15,-0.15], color='r')\n",
    "plt.plot([-0.15,0.15], [-0.15,0.15], color='g')\n",
    "\n",
    "plt.xlabel(\"GT SMB\")\n",
    "plt.ylabel(\"Predicted SMB\")"
   ]
  },
  {
   "cell_type": "code",
   "execution_count": 417,
   "metadata": {},
   "outputs": [],
   "source": [
    "x = torch.abs((R_p-R)/R).flatten().detach().numpy() * 100\n",
    "x = x[x<200]"
   ]
  },
  {
   "cell_type": "code",
   "execution_count": 418,
   "metadata": {
    "scrolled": true
   },
   "outputs": [
    {
     "data": {
      "image/png": "[encoded data removed]",
      "text/plain": [
       "<Figure size 432x288 with 1 Axes>"
      ]
     },
     "metadata": {
      "needs_background": "light"
     },
     "output_type": "display_data"
    }
   ],
   "source": [
    "h, b, _ = plt.hist(x, bins=50)"
   ]
  },
  {
   "cell_type": "code",
   "execution_count": 419,
   "metadata": {},
   "outputs": [
    {
     "data": {
      "text/plain": [
       "34.036213"
      ]
     },
     "execution_count": 419,
     "metadata": {},
     "output_type": "execute_result"
    }
   ],
   "source": [
    "np.median(x)"
   ]
  },
  {
   "cell_type": "code",
   "execution_count": 420,
   "metadata": {},
   "outputs": [],
   "source": [
    "pdf = h/h.sum()"
   ]
  },
  {
   "cell_type": "code",
   "execution_count": 421,
   "metadata": {},
   "outputs": [],
   "source": [
    "cdf = np.cumsum(pdf)"
   ]
  },
  {
   "cell_type": "code",
   "execution_count": 422,
   "metadata": {},
   "outputs": [
    {
     "data": {
      "text/plain": [
       "[<matplotlib.lines.Line2D at 0x12a86501df0>]"
      ]
     },
     "execution_count": 422,
     "metadata": {},
     "output_type": "execute_result"
    },
    {
     "data": {
      "image/png": "[encoded data removed]",
      "text/plain": [
       "<Figure size 432x288 with 1 Axes>"
      ]
     },
     "metadata": {
      "needs_background": "light"
     },
     "output_type": "display_data"
    }
   ],
   "source": [
    "plt.plot(b[1:], cdf)"
   ]
  },
  {
   "cell_type": "code",
   "execution_count": null,
   "metadata": {},
   "outputs": [],
   "source": []
  }
 ],
 "metadata": {
  "kernelspec": {
   "display_name": "Python 3 (ipykernel)",
   "language": "python",
   "name": "python3"
  },
  "language_info": {
   "codemirror_mode": {
    "name": "ipython",
    "version": 3
   },
   "file_extension": ".py",
   "mimetype": "text/x-python",
   "name": "python",
   "nbconvert_exporter": "python",
   "pygments_lexer": "ipython3",
   "version": "3.8.12"
  }
 },
 "nbformat": 4,
 "nbformat_minor": 4
}
